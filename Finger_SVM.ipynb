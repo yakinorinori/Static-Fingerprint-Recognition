{
 "cells": [
  {
   "cell_type": "code",
   "execution_count": 1,
   "id": "7a270996-837d-43d5-840a-914827fa0a3e",
   "metadata": {},
   "outputs": [],
   "source": [
    "import numpy as np\n",
    "import pandas as pd\n",
    "import seaborn as sns\n",
    "import matplotlib.pyplot as plt\n",
    "df1 = pd.read_csv('Finger_data.csv')\n",
    "df2 = pd.read_csv('Finger_answer.csv')"
   ]
  },
  {
   "cell_type": "code",
   "execution_count": 2,
   "id": "b3462fe6-6990-4bb7-b579-f05881d4f18f",
   "metadata": {},
   "outputs": [],
   "source": [
    "ndata_x = np.array(df1)\n",
    "ndata_y = np.array(df2)\n",
    "X = ndata_x\n",
    "Y = ndata_y"
   ]
  },
  {
   "cell_type": "code",
   "execution_count": 3,
   "id": "642dc49a-36d0-4a84-b0d0-63558c8009d6",
   "metadata": {},
   "outputs": [],
   "source": [
    "X = df1.iloc[:, 1:].values\n",
    "Y = df2.iloc[:, 0].values\n",
    "for i in range(X.shape[1]):\n",
    "    X[:,i]= pd.to_numeric(X[:,i], errors='coerce')\n",
    "X1=np.nan_to_num(X)"
   ]
  },
  {
   "cell_type": "code",
   "execution_count": 4,
   "id": "e81099c9-c53c-47a1-85ba-b80dab79e4e1",
   "metadata": {},
   "outputs": [],
   "source": [
    "from sklearn.model_selection import train_test_split\n",
    "X_train,X_test,Y_train,Y_test = train_test_split(X,Y,test_size=0.1,shuffle=True,stratify=Y)"
   ]
  },
  {
   "cell_type": "code",
   "execution_count": 5,
   "id": "cf5742ce-bfb5-410d-8c19-1cf7edb7bd4d",
   "metadata": {},
   "outputs": [
    {
     "data": {
      "text/plain": [
       "SVC(probability=True)"
      ]
     },
     "execution_count": 5,
     "metadata": {},
     "output_type": "execute_result"
    }
   ],
   "source": [
    "from sklearn.svm import SVC\n",
    "svc = SVC(probability=True)\n",
    "svc.fit(X_train,Y_train)"
   ]
  },
  {
   "cell_type": "code",
   "execution_count": 6,
   "id": "a589d5b9-4713-4d6a-99e3-7dac486d5b5e",
   "metadata": {},
   "outputs": [
    {
     "data": {
      "text/plain": [
       "0.9932705248990579"
      ]
     },
     "execution_count": 6,
     "metadata": {},
     "output_type": "execute_result"
    }
   ],
   "source": [
    "from sklearn.metrics import accuracy_score\n",
    "Y_test_pred = svc.predict(X_test)\n",
    "probability_scores = svc.predict_proba(X_test)\n",
    "accuracy_score(Y_test,Y_test_pred)"
   ]
  },
  {
   "cell_type": "code",
   "execution_count": 7,
   "id": "c6f433d5-d164-4d3c-922c-71dca9bb72a5",
   "metadata": {},
   "outputs": [],
   "source": [
    "import pickle\n",
    "with open('hand.pickle', mode='wb') as f:\n",
    "    pickle.dump(svc,f,protocol=2)"
   ]
  },
  {
   "cell_type": "code",
   "execution_count": 8,
   "id": "a306f3ca-fa20-4cda-b88d-6c3adbe64491",
   "metadata": {},
   "outputs": [],
   "source": [
    "# test_data = pd.read_csv('Finger_ - あ.csv')\n",
    "# print(svc.predict(test_data))"
   ]
  }
 ],
 "metadata": {
  "kernelspec": {
   "display_name": "Python 3 (ipykernel)",
   "language": "python",
   "name": "python3"
  },
  "language_info": {
   "codemirror_mode": {
    "name": "ipython",
    "version": 3
   },
   "file_extension": ".py",
   "mimetype": "text/x-python",
   "name": "python",
   "nbconvert_exporter": "python",
   "pygments_lexer": "ipython3",
   "version": "3.9.7"
  }
 },
 "nbformat": 4,
 "nbformat_minor": 5
}
